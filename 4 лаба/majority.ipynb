{
 "cells": [
  {
   "cell_type": "code",
   "execution_count": 11,
   "id": "advanced-behavior",
   "metadata": {},
   "outputs": [],
   "source": [
    "import glob\n",
    "\n",
    "import pandas as pd\n",
    "import numpy as np\n",
    "from sklearn.metrics import matthews_corrcoef\n",
    "\n",
    "np.set_printoptions(precision=3)\n",
    "pd.set_option('precision', 3)"
   ]
  },
  {
   "cell_type": "markdown",
   "id": "small-extra",
   "metadata": {},
   "source": [
    "### Загружаем ответы всех моделей в один датафрейм\n",
    "\n",
    "Здесь мы считаем, что имена файлов ответов начинаются с 'answer'"
   ]
  },
  {
   "cell_type": "code",
   "execution_count": 2,
   "id": "increased-convention",
   "metadata": {},
   "outputs": [],
   "source": [
    "df = pd.concat([pd.read_csv(f) for f in glob.glob('./answers_test/answer*.csv')], ignore_index = True, axis=1).select_dtypes([np.bool])"
   ]
  },
  {
   "cell_type": "code",
   "execution_count": 3,
   "id": "still-discipline",
   "metadata": {},
   "outputs": [
    {
     "data": {
      "text/html": [
       "<div>\n",
       "<style scoped>\n",
       "    .dataframe tbody tr th:only-of-type {\n",
       "        vertical-align: middle;\n",
       "    }\n",
       "\n",
       "    .dataframe tbody tr th {\n",
       "        vertical-align: top;\n",
       "    }\n",
       "\n",
       "    .dataframe thead th {\n",
       "        text-align: right;\n",
       "    }\n",
       "</style>\n",
       "<table border=\"1\" class=\"dataframe\">\n",
       "  <thead>\n",
       "    <tr style=\"text-align: right;\">\n",
       "      <th></th>\n",
       "      <th>1</th>\n",
       "      <th>3</th>\n",
       "      <th>5</th>\n",
       "      <th>7</th>\n",
       "      <th>9</th>\n",
       "      <th>11</th>\n",
       "      <th>13</th>\n",
       "      <th>15</th>\n",
       "      <th>17</th>\n",
       "      <th>19</th>\n",
       "      <th>...</th>\n",
       "      <th>103</th>\n",
       "      <th>105</th>\n",
       "      <th>107</th>\n",
       "      <th>109</th>\n",
       "      <th>111</th>\n",
       "      <th>113</th>\n",
       "      <th>115</th>\n",
       "      <th>117</th>\n",
       "      <th>119</th>\n",
       "      <th>121</th>\n",
       "    </tr>\n",
       "  </thead>\n",
       "  <tbody>\n",
       "    <tr>\n",
       "      <th>0</th>\n",
       "      <td>False</td>\n",
       "      <td>False</td>\n",
       "      <td>False</td>\n",
       "      <td>False</td>\n",
       "      <td>False</td>\n",
       "      <td>False</td>\n",
       "      <td>False</td>\n",
       "      <td>False</td>\n",
       "      <td>False</td>\n",
       "      <td>False</td>\n",
       "      <td>...</td>\n",
       "      <td>False</td>\n",
       "      <td>False</td>\n",
       "      <td>False</td>\n",
       "      <td>False</td>\n",
       "      <td>False</td>\n",
       "      <td>False</td>\n",
       "      <td>False</td>\n",
       "      <td>False</td>\n",
       "      <td>False</td>\n",
       "      <td>False</td>\n",
       "    </tr>\n",
       "  </tbody>\n",
       "</table>\n",
       "<p>1 rows × 61 columns</p>\n",
       "</div>"
      ],
      "text/plain": [
       "     1      3      5      7      9      11     13     15     17     19   ...  \\\n",
       "0  False  False  False  False  False  False  False  False  False  False  ...   \n",
       "\n",
       "     103    105    107    109    111    113    115    117    119    121  \n",
       "0  False  False  False  False  False  False  False  False  False  False  \n",
       "\n",
       "[1 rows x 61 columns]"
      ]
     },
     "execution_count": 3,
     "metadata": {},
     "output_type": "execute_result"
    }
   ],
   "source": [
    "df.head(1)"
   ]
  },
  {
   "cell_type": "markdown",
   "id": "centered-buffalo",
   "metadata": {},
   "source": [
    "### Делаем мажоритарное голосование"
   ]
  },
  {
   "cell_type": "code",
   "execution_count": 4,
   "id": "partial-ridge",
   "metadata": {},
   "outputs": [],
   "source": [
    "df_majority = df.mode(axis=1)[0]"
   ]
  },
  {
   "cell_type": "markdown",
   "id": "concerned-optics",
   "metadata": {},
   "source": [
    "### Смотрим соотношение true к false\n",
    "\n",
    "У нас есть prior о том, что соотношение примерно 1 к 3."
   ]
  },
  {
   "cell_type": "code",
   "execution_count": 5,
   "id": "featured-scout",
   "metadata": {},
   "outputs": [
    {
     "name": "stdout",
     "output_type": "stream",
     "text": [
      "0.37722829212190917\n"
     ]
    }
   ],
   "source": [
    "vc = df_majority.value_counts()\n",
    "print(vc[1]/vc[0])"
   ]
  },
  {
   "cell_type": "markdown",
   "id": "flexible-penalty",
   "metadata": {},
   "source": [
    "### Запихиваем результаты в датафрейм и переименовываем колонки"
   ]
  },
  {
   "cell_type": "code",
   "execution_count": 6,
   "id": "irish-gentleman",
   "metadata": {},
   "outputs": [
    {
     "data": {
      "text/html": [
       "<div>\n",
       "<style scoped>\n",
       "    .dataframe tbody tr th:only-of-type {\n",
       "        vertical-align: middle;\n",
       "    }\n",
       "\n",
       "    .dataframe tbody tr th {\n",
       "        vertical-align: top;\n",
       "    }\n",
       "\n",
       "    .dataframe thead th {\n",
       "        text-align: right;\n",
       "    }\n",
       "</style>\n",
       "<table border=\"1\" class=\"dataframe\">\n",
       "  <thead>\n",
       "    <tr style=\"text-align: right;\">\n",
       "      <th></th>\n",
       "      <th>Churn</th>\n",
       "    </tr>\n",
       "    <tr>\n",
       "      <th>Index</th>\n",
       "      <th></th>\n",
       "    </tr>\n",
       "  </thead>\n",
       "  <tbody>\n",
       "    <tr>\n",
       "      <th>0</th>\n",
       "      <td>False</td>\n",
       "    </tr>\n",
       "  </tbody>\n",
       "</table>\n",
       "</div>"
      ],
      "text/plain": [
       "       Churn\n",
       "Index       \n",
       "0      False"
      ]
     },
     "execution_count": 6,
     "metadata": {},
     "output_type": "execute_result"
    }
   ],
   "source": [
    "df_majority = pd.DataFrame(df_majority)\n",
    "df_majority.index.name = 'Index'\n",
    "df_majority.columns = ['Churn']\n",
    "df_majority.head(1)"
   ]
  },
  {
   "cell_type": "markdown",
   "id": "documentary-beast",
   "metadata": {},
   "source": [
    "### Сохраняем в файл"
   ]
  },
  {
   "cell_type": "code",
   "execution_count": 7,
   "id": "certain-hacker",
   "metadata": {},
   "outputs": [],
   "source": [
    "df_majority.to_csv('./answer_majority_test_1.csv')"
   ]
  }
 ],
 "metadata": {
  "kernelspec": {
   "display_name": "Python 3",
   "language": "python",
   "name": "python3"
  },
  "language_info": {
   "codemirror_mode": {
    "name": "ipython",
    "version": 3
   },
   "file_extension": ".py",
   "mimetype": "text/x-python",
   "name": "python",
   "nbconvert_exporter": "python",
   "pygments_lexer": "ipython3",
   "version": "3.7.3"
  }
 },
 "nbformat": 4,
 "nbformat_minor": 5
}
