{
 "cells": [
  {
   "cell_type": "markdown",
   "metadata": {},
   "source": [
    "### 100,000 UK Used Car Data set\n",
    "https://www.kaggle.com/adityadesai13/used-car-dataset-ford-and-mercedes\n",
    "\n",
    "\n",
    "1. Выбрать набор данных для своей группы: <br>\n",
    "    3530203_70101: Audi <br>\n",
    "    3530203_70102: BMW <br>\n",
    "    3530903_70301: Ford <br>\n",
    "    3530903_70302: Mercedes<br>\n",
    "    \n",
    "2. Разбить данные на тренировочные и тестовые (70% на 30%, random_state=10).\n",
    "3. Попытаться обучить регрессии c лучшим качеством. \n"
   ]
  },
  {
   "cell_type": "code",
   "execution_count": 1,
   "metadata": {},
   "outputs": [],
   "source": [
    "import pandas as pd\n",
    "import numpy as np\n",
    "import seaborn as sns \n",
    "import matplotlib.pyplot as plt\n",
    "import xgboost as xg\n",
    "\n",
    "from sklearn.compose import ColumnTransformer\n",
    "from sklearn.pipeline import Pipeline\n",
    "from sklearn.preprocessing import StandardScaler, OneHotEncoder\n",
    "from sklearn.linear_model import LogisticRegression, LinearRegression, Lasso, Ridge, LassoCV, RidgeCV\n",
    "from sklearn.model_selection import GridSearchCV\n",
    "from sklearn.metrics import mean_squared_error, make_scorer\n",
    "\n",
    "from sklearn.model_selection import train_test_split"
   ]
  },
  {
   "cell_type": "code",
   "execution_count": 2,
   "metadata": {},
   "outputs": [],
   "source": [
    "ad = pd.read_csv(\"bmw.csv\")"
   ]
  },
  {
   "cell_type": "markdown",
   "metadata": {},
   "source": [
    "### Смотрим на данные"
   ]
  },
  {
   "cell_type": "code",
   "execution_count": 3,
   "metadata": {},
   "outputs": [
    {
     "data": {
      "text/html": [
       "<div>\n",
       "<style scoped>\n",
       "    .dataframe tbody tr th:only-of-type {\n",
       "        vertical-align: middle;\n",
       "    }\n",
       "\n",
       "    .dataframe tbody tr th {\n",
       "        vertical-align: top;\n",
       "    }\n",
       "\n",
       "    .dataframe thead th {\n",
       "        text-align: right;\n",
       "    }\n",
       "</style>\n",
       "<table border=\"1\" class=\"dataframe\">\n",
       "  <thead>\n",
       "    <tr style=\"text-align: right;\">\n",
       "      <th></th>\n",
       "      <th>model</th>\n",
       "      <th>year</th>\n",
       "      <th>price</th>\n",
       "      <th>transmission</th>\n",
       "      <th>mileage</th>\n",
       "      <th>fuelType</th>\n",
       "      <th>tax</th>\n",
       "      <th>mpg</th>\n",
       "      <th>engineSize</th>\n",
       "    </tr>\n",
       "  </thead>\n",
       "  <tbody>\n",
       "    <tr>\n",
       "      <th>0</th>\n",
       "      <td>5 Series</td>\n",
       "      <td>2014</td>\n",
       "      <td>11200</td>\n",
       "      <td>Automatic</td>\n",
       "      <td>67068</td>\n",
       "      <td>Diesel</td>\n",
       "      <td>125</td>\n",
       "      <td>57.6</td>\n",
       "      <td>2.0</td>\n",
       "    </tr>\n",
       "    <tr>\n",
       "      <th>1</th>\n",
       "      <td>6 Series</td>\n",
       "      <td>2018</td>\n",
       "      <td>27000</td>\n",
       "      <td>Automatic</td>\n",
       "      <td>14827</td>\n",
       "      <td>Petrol</td>\n",
       "      <td>145</td>\n",
       "      <td>42.8</td>\n",
       "      <td>2.0</td>\n",
       "    </tr>\n",
       "    <tr>\n",
       "      <th>2</th>\n",
       "      <td>5 Series</td>\n",
       "      <td>2016</td>\n",
       "      <td>16000</td>\n",
       "      <td>Automatic</td>\n",
       "      <td>62794</td>\n",
       "      <td>Diesel</td>\n",
       "      <td>160</td>\n",
       "      <td>51.4</td>\n",
       "      <td>3.0</td>\n",
       "    </tr>\n",
       "    <tr>\n",
       "      <th>3</th>\n",
       "      <td>1 Series</td>\n",
       "      <td>2017</td>\n",
       "      <td>12750</td>\n",
       "      <td>Automatic</td>\n",
       "      <td>26676</td>\n",
       "      <td>Diesel</td>\n",
       "      <td>145</td>\n",
       "      <td>72.4</td>\n",
       "      <td>1.5</td>\n",
       "    </tr>\n",
       "    <tr>\n",
       "      <th>4</th>\n",
       "      <td>7 Series</td>\n",
       "      <td>2014</td>\n",
       "      <td>14500</td>\n",
       "      <td>Automatic</td>\n",
       "      <td>39554</td>\n",
       "      <td>Diesel</td>\n",
       "      <td>160</td>\n",
       "      <td>50.4</td>\n",
       "      <td>3.0</td>\n",
       "    </tr>\n",
       "  </tbody>\n",
       "</table>\n",
       "</div>"
      ],
      "text/plain": [
       "       model  year  price transmission  mileage fuelType  tax   mpg  \\\n",
       "0   5 Series  2014  11200    Automatic    67068   Diesel  125  57.6   \n",
       "1   6 Series  2018  27000    Automatic    14827   Petrol  145  42.8   \n",
       "2   5 Series  2016  16000    Automatic    62794   Diesel  160  51.4   \n",
       "3   1 Series  2017  12750    Automatic    26676   Diesel  145  72.4   \n",
       "4   7 Series  2014  14500    Automatic    39554   Diesel  160  50.4   \n",
       "\n",
       "   engineSize  \n",
       "0         2.0  \n",
       "1         2.0  \n",
       "2         3.0  \n",
       "3         1.5  \n",
       "4         3.0  "
      ]
     },
     "execution_count": 3,
     "metadata": {},
     "output_type": "execute_result"
    }
   ],
   "source": [
    "ad.head()"
   ]
  },
  {
   "cell_type": "code",
   "execution_count": 4,
   "metadata": {},
   "outputs": [
    {
     "name": "stdout",
     "output_type": "stream",
     "text": [
      "<class 'pandas.core.frame.DataFrame'>\n",
      "RangeIndex: 10781 entries, 0 to 10780\n",
      "Data columns (total 9 columns):\n",
      " #   Column        Non-Null Count  Dtype  \n",
      "---  ------        --------------  -----  \n",
      " 0   model         10781 non-null  object \n",
      " 1   year          10781 non-null  int64  \n",
      " 2   price         10781 non-null  int64  \n",
      " 3   transmission  10781 non-null  object \n",
      " 4   mileage       10781 non-null  int64  \n",
      " 5   fuelType      10781 non-null  object \n",
      " 6   tax           10781 non-null  int64  \n",
      " 7   mpg           10781 non-null  float64\n",
      " 8   engineSize    10781 non-null  float64\n",
      "dtypes: float64(2), int64(4), object(3)\n",
      "memory usage: 758.2+ KB\n"
     ]
    }
   ],
   "source": [
    "ad.info()"
   ]
  },
  {
   "cell_type": "markdown",
   "metadata": {},
   "source": [
    "### Посмотрим, есть ли пропущенные значения"
   ]
  },
  {
   "cell_type": "code",
   "execution_count": 5,
   "metadata": {},
   "outputs": [
    {
     "data": {
      "text/plain": [
       "model           0\n",
       "year            0\n",
       "price           0\n",
       "transmission    0\n",
       "mileage         0\n",
       "fuelType        0\n",
       "tax             0\n",
       "mpg             0\n",
       "engineSize      0\n",
       "dtype: int64"
      ]
     },
     "execution_count": 5,
     "metadata": {},
     "output_type": "execute_result"
    }
   ],
   "source": [
    "ad.isnull().sum()"
   ]
  },
  {
   "cell_type": "markdown",
   "metadata": {},
   "source": [
    "### Может есть скрытые пропуски?"
   ]
  },
  {
   "cell_type": "code",
   "execution_count": 6,
   "metadata": {},
   "outputs": [
    {
     "data": {
      "text/plain": [
       " 3 Series    2443\n",
       " 1 Series    1969\n",
       " 2 Series    1229\n",
       " 5 Series    1056\n",
       " 4 Series     995\n",
       " X1           804\n",
       " X3           551\n",
       " X5           468\n",
       " X2           288\n",
       " X4           179\n",
       " M4           125\n",
       " Z4           108\n",
       " 6 Series     108\n",
       " 7 Series     106\n",
       " X6           106\n",
       " X7            55\n",
       " i3            43\n",
       " 8 Series      39\n",
       " M5            29\n",
       " M3            27\n",
       " M2            21\n",
       " i8            17\n",
       " M6             8\n",
       " Z3             7\n",
       "Name: model, dtype: int64"
      ]
     },
     "execution_count": 6,
     "metadata": {},
     "output_type": "execute_result"
    }
   ],
   "source": [
    "ad['model'].value_counts()"
   ]
  },
  {
   "cell_type": "code",
   "execution_count": 7,
   "metadata": {},
   "outputs": [
    {
     "data": {
      "text/plain": [
       "Semi-Auto    4666\n",
       "Automatic    3588\n",
       "Manual       2527\n",
       "Name: transmission, dtype: int64"
      ]
     },
     "execution_count": 7,
     "metadata": {},
     "output_type": "execute_result"
    }
   ],
   "source": [
    "ad['transmission'].value_counts()"
   ]
  },
  {
   "cell_type": "code",
   "execution_count": 8,
   "metadata": {},
   "outputs": [
    {
     "data": {
      "text/plain": [
       "Diesel      7027\n",
       "Petrol      3417\n",
       "Hybrid       298\n",
       "Other         36\n",
       "Electric       3\n",
       "Name: fuelType, dtype: int64"
      ]
     },
     "execution_count": 8,
     "metadata": {},
     "output_type": "execute_result"
    }
   ],
   "source": [
    "ad['fuelType'].value_counts()"
   ]
  },
  {
   "cell_type": "code",
   "execution_count": 6,
   "metadata": {},
   "outputs": [
    {
     "name": "stderr",
     "output_type": "stream",
     "text": [
      "D:\\programms\\Anaconda\\lib\\site-packages\\seaborn\\_decorators.py:36: FutureWarning: Pass the following variable as a keyword arg: x. From version 0.12, the only valid positional argument will be `data`, and passing other arguments without an explicit keyword will result in an error or misinterpretation.\n",
      "  warnings.warn(\n"
     ]
    },
    {
     "data": {
      "text/plain": [
       "Text(0.5, 1.0, 'исследование')"
      ]
     },
     "execution_count": 6,
     "metadata": {},
     "output_type": "execute_result"
    },
    {
     "data": {
      "image/png": "[encoded data removed]",
      "text/plain": [
       "<Figure size 864x504 with 1 Axes>"
      ]
     },
     "metadata": {
      "needs_background": "light"
     },
     "output_type": "display_data"
    }
   ],
   "source": [
    "plt.subplots(figsize=(12,7))\n",
    "sns.boxplot(ad['mpg'])\n",
    "plt.title('исследование')"
   ]
  },
  {
   "cell_type": "code",
   "execution_count": 10,
   "metadata": {},
   "outputs": [
    {
     "data": {
      "text/html": [
       "<div>\n",
       "<style scoped>\n",
       "    .dataframe tbody tr th:only-of-type {\n",
       "        vertical-align: middle;\n",
       "    }\n",
       "\n",
       "    .dataframe tbody tr th {\n",
       "        vertical-align: top;\n",
       "    }\n",
       "\n",
       "    .dataframe thead th {\n",
       "        text-align: right;\n",
       "    }\n",
       "</style>\n",
       "<table border=\"1\" class=\"dataframe\">\n",
       "  <thead>\n",
       "    <tr style=\"text-align: right;\">\n",
       "      <th></th>\n",
       "      <th>model</th>\n",
       "      <th>year</th>\n",
       "      <th>price</th>\n",
       "      <th>transmission</th>\n",
       "      <th>mileage</th>\n",
       "      <th>fuelType</th>\n",
       "      <th>tax</th>\n",
       "      <th>mpg</th>\n",
       "      <th>engineSize</th>\n",
       "    </tr>\n",
       "  </thead>\n",
       "  <tbody>\n",
       "    <tr>\n",
       "      <th>32</th>\n",
       "      <td>i3</td>\n",
       "      <td>2016</td>\n",
       "      <td>17100</td>\n",
       "      <td>Automatic</td>\n",
       "      <td>25269</td>\n",
       "      <td>Other</td>\n",
       "      <td>0</td>\n",
       "      <td>470.8</td>\n",
       "      <td>0.6</td>\n",
       "    </tr>\n",
       "    <tr>\n",
       "      <th>621</th>\n",
       "      <td>i3</td>\n",
       "      <td>2017</td>\n",
       "      <td>19998</td>\n",
       "      <td>Automatic</td>\n",
       "      <td>41949</td>\n",
       "      <td>Hybrid</td>\n",
       "      <td>140</td>\n",
       "      <td>470.8</td>\n",
       "      <td>0.0</td>\n",
       "    </tr>\n",
       "    <tr>\n",
       "      <th>778</th>\n",
       "      <td>i3</td>\n",
       "      <td>2017</td>\n",
       "      <td>19998</td>\n",
       "      <td>Automatic</td>\n",
       "      <td>41146</td>\n",
       "      <td>Hybrid</td>\n",
       "      <td>0</td>\n",
       "      <td>470.8</td>\n",
       "      <td>0.0</td>\n",
       "    </tr>\n",
       "    <tr>\n",
       "      <th>780</th>\n",
       "      <td>i3</td>\n",
       "      <td>2017</td>\n",
       "      <td>21898</td>\n",
       "      <td>Automatic</td>\n",
       "      <td>10839</td>\n",
       "      <td>Hybrid</td>\n",
       "      <td>0</td>\n",
       "      <td>470.8</td>\n",
       "      <td>0.0</td>\n",
       "    </tr>\n",
       "    <tr>\n",
       "      <th>1866</th>\n",
       "      <td>i3</td>\n",
       "      <td>2017</td>\n",
       "      <td>19980</td>\n",
       "      <td>Automatic</td>\n",
       "      <td>26965</td>\n",
       "      <td>Hybrid</td>\n",
       "      <td>140</td>\n",
       "      <td>470.8</td>\n",
       "      <td>0.0</td>\n",
       "    </tr>\n",
       "  </tbody>\n",
       "</table>\n",
       "</div>"
      ],
      "text/plain": [
       "     model  year  price transmission  mileage fuelType  tax    mpg  engineSize\n",
       "32      i3  2016  17100    Automatic    25269    Other    0  470.8         0.6\n",
       "621     i3  2017  19998    Automatic    41949   Hybrid  140  470.8         0.0\n",
       "778     i3  2017  19998    Automatic    41146   Hybrid    0  470.8         0.0\n",
       "780     i3  2017  21898    Automatic    10839   Hybrid    0  470.8         0.0\n",
       "1866    i3  2017  19980    Automatic    26965   Hybrid  140  470.8         0.0"
      ]
     },
     "execution_count": 10,
     "metadata": {},
     "output_type": "execute_result"
    }
   ],
   "source": [
    "len(ad['mpg'][ad['mpg'] > 400])\n",
    "ad[ad['mpg'] > 400].head()"
   ]
  },
  {
   "cell_type": "markdown",
   "metadata": {},
   "source": [
    "### Но если заметить, то все в порядке, это все принадлежит модели i3"
   ]
  },
  {
   "cell_type": "markdown",
   "metadata": {},
   "source": [
    "### Посмотрим хитмап"
   ]
  },
  {
   "cell_type": "code",
   "execution_count": 8,
   "metadata": {},
   "outputs": [
    {
     "data": {
      "text/plain": [
       "<AxesSubplot:>"
      ]
     },
     "execution_count": 8,
     "metadata": {},
     "output_type": "execute_result"
    },
    {
     "data": {
      "image/png": "[encoded data removed]",
      "text/plain": [
       "<Figure size 720x720 with 2 Axes>"
      ]
     },
     "metadata": {
      "needs_background": "light"
     },
     "output_type": "display_data"
    }
   ],
   "source": [
    "fig, ax = plt.subplots(figsize=(10,10))\n",
    "sns.heatmap(ad.corr(method='spearman'), annot = True, linewidths=0.7, ax=ax )"
   ]
  },
  {
   "cell_type": "markdown",
   "metadata": {},
   "source": [
    "### Второй вариант, но concat очень плохо работает..."
   ]
  },
  {
   "cell_type": "code",
   "execution_count": 3,
   "metadata": {},
   "outputs": [],
   "source": [
    "X, Y = ad.drop(['price'], axis=1), ad['price']"
   ]
  },
  {
   "cell_type": "code",
   "execution_count": 26,
   "metadata": {},
   "outputs": [],
   "source": [
    "X_train, X_test, Y_train, Y_test = train_test_split(X, Y, test_size=0.3, random_state=10)"
   ]
  },
  {
   "cell_type": "code",
   "execution_count": 27,
   "metadata": {},
   "outputs": [],
   "source": [
    "X_train, X_nominal_train = X_train.drop(columns=['model', 'transmission', 'fuelType'], axis=1), X_train[['model', 'transmission', 'fuelType']]\n",
    "X_test, X_nominal_test = X_test.drop(columns=['model', 'transmission', 'fuelType'], axis=1), X_test[['model', 'transmission', 'fuelType']]"
   ]
  },
  {
   "cell_type": "code",
   "execution_count": 28,
   "metadata": {},
   "outputs": [],
   "source": [
    "std_scaler = StandardScaler()\n",
    "\n",
    "X_train_scaled = std_scaler.fit_transform(X_train)\n",
    "X_test_scaled = std_scaler.transform(X_test)"
   ]
  },
  {
   "cell_type": "code",
   "execution_count": 33,
   "metadata": {},
   "outputs": [],
   "source": [
    "X_train_scaled =pd.DataFrame(X_train_scaled)"
   ]
  },
  {
   "cell_type": "code",
   "execution_count": 36,
   "metadata": {},
   "outputs": [
    {
     "name": "stdout",
     "output_type": "stream",
     "text": [
      "(7546, 5)\n"
     ]
    },
    {
     "data": {
      "text/html": [
       "<div>\n",
       "<style scoped>\n",
       "    .dataframe tbody tr th:only-of-type {\n",
       "        vertical-align: middle;\n",
       "    }\n",
       "\n",
       "    .dataframe tbody tr th {\n",
       "        vertical-align: top;\n",
       "    }\n",
       "\n",
       "    .dataframe thead th {\n",
       "        text-align: right;\n",
       "    }\n",
       "</style>\n",
       "<table border=\"1\" class=\"dataframe\">\n",
       "  <thead>\n",
       "    <tr style=\"text-align: right;\">\n",
       "      <th></th>\n",
       "      <th>0</th>\n",
       "      <th>1</th>\n",
       "      <th>2</th>\n",
       "      <th>3</th>\n",
       "      <th>4</th>\n",
       "    </tr>\n",
       "  </thead>\n",
       "  <tbody>\n",
       "    <tr>\n",
       "      <th>0</th>\n",
       "      <td>-0.881915</td>\n",
       "      <td>1.214674</td>\n",
       "      <td>-1.629165</td>\n",
       "      <td>0.210562</td>\n",
       "      <td>-0.306889</td>\n",
       "    </tr>\n",
       "    <tr>\n",
       "      <th>1</th>\n",
       "      <td>0.394851</td>\n",
       "      <td>-0.557262</td>\n",
       "      <td>0.297065</td>\n",
       "      <td>-0.498119</td>\n",
       "      <td>1.508416</td>\n",
       "    </tr>\n",
       "    <tr>\n",
       "      <th>2</th>\n",
       "      <td>0.820440</td>\n",
       "      <td>-0.919036</td>\n",
       "      <td>0.216805</td>\n",
       "      <td>-0.478703</td>\n",
       "      <td>-1.214542</td>\n",
       "    </tr>\n",
       "    <tr>\n",
       "      <th>3</th>\n",
       "      <td>0.820440</td>\n",
       "      <td>-0.308110</td>\n",
       "      <td>0.216805</td>\n",
       "      <td>-0.245712</td>\n",
       "      <td>-0.306889</td>\n",
       "    </tr>\n",
       "    <tr>\n",
       "      <th>4</th>\n",
       "      <td>0.394851</td>\n",
       "      <td>-0.667113</td>\n",
       "      <td>0.216805</td>\n",
       "      <td>-0.734346</td>\n",
       "      <td>1.508416</td>\n",
       "    </tr>\n",
       "  </tbody>\n",
       "</table>\n",
       "</div>"
      ],
      "text/plain": [
       "          0         1         2         3         4\n",
       "0 -0.881915  1.214674 -1.629165  0.210562 -0.306889\n",
       "1  0.394851 -0.557262  0.297065 -0.498119  1.508416\n",
       "2  0.820440 -0.919036  0.216805 -0.478703 -1.214542\n",
       "3  0.820440 -0.308110  0.216805 -0.245712 -0.306889\n",
       "4  0.394851 -0.667113  0.216805 -0.734346  1.508416"
      ]
     },
     "execution_count": 36,
     "metadata": {},
     "output_type": "execute_result"
    }
   ],
   "source": [
    "print(X_train_scaled.shape)\n",
    "X_train_scaled.head()"
   ]
  },
  {
   "cell_type": "code",
   "execution_count": 29,
   "metadata": {},
   "outputs": [],
   "source": [
    "X_nominal_train = pd.get_dummies(data=X_nominal_train, columns=['model','transmission','fuelType'])\n",
    "X_nominal_test = pd.get_dummies(data=X_nominal_test, columns=['model','transmission','fuelType'])"
   ]
  },
  {
   "cell_type": "code",
   "execution_count": 30,
   "metadata": {},
   "outputs": [
    {
     "name": "stdout",
     "output_type": "stream",
     "text": [
      "(7546, 31)\n"
     ]
    },
    {
     "data": {
      "text/html": [
       "<div>\n",
       "<style scoped>\n",
       "    .dataframe tbody tr th:only-of-type {\n",
       "        vertical-align: middle;\n",
       "    }\n",
       "\n",
       "    .dataframe tbody tr th {\n",
       "        vertical-align: top;\n",
       "    }\n",
       "\n",
       "    .dataframe thead th {\n",
       "        text-align: right;\n",
       "    }\n",
       "</style>\n",
       "<table border=\"1\" class=\"dataframe\">\n",
       "  <thead>\n",
       "    <tr style=\"text-align: right;\">\n",
       "      <th></th>\n",
       "      <th>model_ 1 Series</th>\n",
       "      <th>model_ 2 Series</th>\n",
       "      <th>model_ 3 Series</th>\n",
       "      <th>model_ 4 Series</th>\n",
       "      <th>model_ 5 Series</th>\n",
       "      <th>model_ 6 Series</th>\n",
       "      <th>model_ 7 Series</th>\n",
       "      <th>model_ 8 Series</th>\n",
       "      <th>model_ M2</th>\n",
       "      <th>model_ M3</th>\n",
       "      <th>...</th>\n",
       "      <th>model_ Z4</th>\n",
       "      <th>model_ i3</th>\n",
       "      <th>model_ i8</th>\n",
       "      <th>transmission_Automatic</th>\n",
       "      <th>transmission_Manual</th>\n",
       "      <th>transmission_Semi-Auto</th>\n",
       "      <th>fuelType_Diesel</th>\n",
       "      <th>fuelType_Hybrid</th>\n",
       "      <th>fuelType_Other</th>\n",
       "      <th>fuelType_Petrol</th>\n",
       "    </tr>\n",
       "  </thead>\n",
       "  <tbody>\n",
       "    <tr>\n",
       "      <th>1934</th>\n",
       "      <td>0</td>\n",
       "      <td>0</td>\n",
       "      <td>1</td>\n",
       "      <td>0</td>\n",
       "      <td>0</td>\n",
       "      <td>0</td>\n",
       "      <td>0</td>\n",
       "      <td>0</td>\n",
       "      <td>0</td>\n",
       "      <td>0</td>\n",
       "      <td>...</td>\n",
       "      <td>0</td>\n",
       "      <td>0</td>\n",
       "      <td>0</td>\n",
       "      <td>0</td>\n",
       "      <td>0</td>\n",
       "      <td>1</td>\n",
       "      <td>1</td>\n",
       "      <td>0</td>\n",
       "      <td>0</td>\n",
       "      <td>0</td>\n",
       "    </tr>\n",
       "    <tr>\n",
       "      <th>1633</th>\n",
       "      <td>0</td>\n",
       "      <td>0</td>\n",
       "      <td>0</td>\n",
       "      <td>0</td>\n",
       "      <td>0</td>\n",
       "      <td>0</td>\n",
       "      <td>0</td>\n",
       "      <td>0</td>\n",
       "      <td>0</td>\n",
       "      <td>0</td>\n",
       "      <td>...</td>\n",
       "      <td>0</td>\n",
       "      <td>0</td>\n",
       "      <td>0</td>\n",
       "      <td>0</td>\n",
       "      <td>0</td>\n",
       "      <td>1</td>\n",
       "      <td>1</td>\n",
       "      <td>0</td>\n",
       "      <td>0</td>\n",
       "      <td>0</td>\n",
       "    </tr>\n",
       "    <tr>\n",
       "      <th>5392</th>\n",
       "      <td>1</td>\n",
       "      <td>0</td>\n",
       "      <td>0</td>\n",
       "      <td>0</td>\n",
       "      <td>0</td>\n",
       "      <td>0</td>\n",
       "      <td>0</td>\n",
       "      <td>0</td>\n",
       "      <td>0</td>\n",
       "      <td>0</td>\n",
       "      <td>...</td>\n",
       "      <td>0</td>\n",
       "      <td>0</td>\n",
       "      <td>0</td>\n",
       "      <td>0</td>\n",
       "      <td>1</td>\n",
       "      <td>0</td>\n",
       "      <td>0</td>\n",
       "      <td>0</td>\n",
       "      <td>0</td>\n",
       "      <td>1</td>\n",
       "    </tr>\n",
       "    <tr>\n",
       "      <th>2480</th>\n",
       "      <td>0</td>\n",
       "      <td>0</td>\n",
       "      <td>1</td>\n",
       "      <td>0</td>\n",
       "      <td>0</td>\n",
       "      <td>0</td>\n",
       "      <td>0</td>\n",
       "      <td>0</td>\n",
       "      <td>0</td>\n",
       "      <td>0</td>\n",
       "      <td>...</td>\n",
       "      <td>0</td>\n",
       "      <td>0</td>\n",
       "      <td>0</td>\n",
       "      <td>0</td>\n",
       "      <td>0</td>\n",
       "      <td>1</td>\n",
       "      <td>1</td>\n",
       "      <td>0</td>\n",
       "      <td>0</td>\n",
       "      <td>0</td>\n",
       "    </tr>\n",
       "    <tr>\n",
       "      <th>6215</th>\n",
       "      <td>0</td>\n",
       "      <td>0</td>\n",
       "      <td>0</td>\n",
       "      <td>0</td>\n",
       "      <td>0</td>\n",
       "      <td>0</td>\n",
       "      <td>0</td>\n",
       "      <td>0</td>\n",
       "      <td>0</td>\n",
       "      <td>0</td>\n",
       "      <td>...</td>\n",
       "      <td>0</td>\n",
       "      <td>0</td>\n",
       "      <td>0</td>\n",
       "      <td>0</td>\n",
       "      <td>0</td>\n",
       "      <td>1</td>\n",
       "      <td>0</td>\n",
       "      <td>0</td>\n",
       "      <td>0</td>\n",
       "      <td>1</td>\n",
       "    </tr>\n",
       "  </tbody>\n",
       "</table>\n",
       "<p>5 rows × 31 columns</p>\n",
       "</div>"
      ],
      "text/plain": [
       "      model_ 1 Series  model_ 2 Series  model_ 3 Series  model_ 4 Series  \\\n",
       "1934                0                0                1                0   \n",
       "1633                0                0                0                0   \n",
       "5392                1                0                0                0   \n",
       "2480                0                0                1                0   \n",
       "6215                0                0                0                0   \n",
       "\n",
       "      model_ 5 Series  model_ 6 Series  model_ 7 Series  model_ 8 Series  \\\n",
       "1934                0                0                0                0   \n",
       "1633                0                0                0                0   \n",
       "5392                0                0                0                0   \n",
       "2480                0                0                0                0   \n",
       "6215                0                0                0                0   \n",
       "\n",
       "      model_ M2  model_ M3  ...  model_ Z4  model_ i3  model_ i8  \\\n",
       "1934          0          0  ...          0          0          0   \n",
       "1633          0          0  ...          0          0          0   \n",
       "5392          0          0  ...          0          0          0   \n",
       "2480          0          0  ...          0          0          0   \n",
       "6215          0          0  ...          0          0          0   \n",
       "\n",
       "      transmission_Automatic  transmission_Manual  transmission_Semi-Auto  \\\n",
       "1934                       0                    0                       1   \n",
       "1633                       0                    0                       1   \n",
       "5392                       0                    1                       0   \n",
       "2480                       0                    0                       1   \n",
       "6215                       0                    0                       1   \n",
       "\n",
       "      fuelType_Diesel  fuelType_Hybrid  fuelType_Other  fuelType_Petrol  \n",
       "1934                1                0               0                0  \n",
       "1633                1                0               0                0  \n",
       "5392                0                0               0                1  \n",
       "2480                1                0               0                0  \n",
       "6215                0                0               0                1  \n",
       "\n",
       "[5 rows x 31 columns]"
      ]
     },
     "execution_count": 30,
     "metadata": {},
     "output_type": "execute_result"
    }
   ],
   "source": [
    "print(X_nominal_train.shape)\n",
    "X_nominal_train.head()"
   ]
  },
  {
   "cell_type": "code",
   "execution_count": 18,
   "metadata": {},
   "outputs": [],
   "source": [
    "X_train = pd.concat([pd.DataFrame(X_train_scaled),X_nominal_train],axis = 1)\n",
    "X_test = pd.concat([pd.DataFrame(X_test_scaled),X_nominal_test],axis = 1)"
   ]
  },
  {
   "cell_type": "code",
   "execution_count": 40,
   "metadata": {},
   "outputs": [
    {
     "data": {
      "text/plain": [
       "(9842, 36)"
      ]
     },
     "execution_count": 40,
     "metadata": {},
     "output_type": "execute_result"
    }
   ],
   "source": [
    "pd.concat([X_train_scaled,X_nominal_train],axis = 1,ignore_index=True).shape"
   ]
  },
  {
   "cell_type": "code",
   "execution_count": 19,
   "metadata": {},
   "outputs": [
    {
     "data": {
      "text/html": [
       "<div>\n",
       "<style scoped>\n",
       "    .dataframe tbody tr th:only-of-type {\n",
       "        vertical-align: middle;\n",
       "    }\n",
       "\n",
       "    .dataframe tbody tr th {\n",
       "        vertical-align: top;\n",
       "    }\n",
       "\n",
       "    .dataframe thead th {\n",
       "        text-align: right;\n",
       "    }\n",
       "</style>\n",
       "<table border=\"1\" class=\"dataframe\">\n",
       "  <thead>\n",
       "    <tr style=\"text-align: right;\">\n",
       "      <th></th>\n",
       "      <th>0</th>\n",
       "      <th>1</th>\n",
       "      <th>2</th>\n",
       "      <th>3</th>\n",
       "      <th>4</th>\n",
       "      <th>model_ 1 Series</th>\n",
       "      <th>model_ 2 Series</th>\n",
       "      <th>model_ 3 Series</th>\n",
       "      <th>model_ 4 Series</th>\n",
       "      <th>model_ 5 Series</th>\n",
       "      <th>...</th>\n",
       "      <th>model_ Z4</th>\n",
       "      <th>model_ i3</th>\n",
       "      <th>model_ i8</th>\n",
       "      <th>transmission_Automatic</th>\n",
       "      <th>transmission_Manual</th>\n",
       "      <th>transmission_Semi-Auto</th>\n",
       "      <th>fuelType_Diesel</th>\n",
       "      <th>fuelType_Hybrid</th>\n",
       "      <th>fuelType_Other</th>\n",
       "      <th>fuelType_Petrol</th>\n",
       "    </tr>\n",
       "  </thead>\n",
       "  <tbody>\n",
       "    <tr>\n",
       "      <th>0</th>\n",
       "      <td>-0.881915</td>\n",
       "      <td>1.214674</td>\n",
       "      <td>-1.629165</td>\n",
       "      <td>0.210562</td>\n",
       "      <td>-0.306889</td>\n",
       "      <td>NaN</td>\n",
       "      <td>NaN</td>\n",
       "      <td>NaN</td>\n",
       "      <td>NaN</td>\n",
       "      <td>NaN</td>\n",
       "      <td>...</td>\n",
       "      <td>NaN</td>\n",
       "      <td>NaN</td>\n",
       "      <td>NaN</td>\n",
       "      <td>NaN</td>\n",
       "      <td>NaN</td>\n",
       "      <td>NaN</td>\n",
       "      <td>NaN</td>\n",
       "      <td>NaN</td>\n",
       "      <td>NaN</td>\n",
       "      <td>NaN</td>\n",
       "    </tr>\n",
       "    <tr>\n",
       "      <th>1</th>\n",
       "      <td>0.394851</td>\n",
       "      <td>-0.557262</td>\n",
       "      <td>0.297065</td>\n",
       "      <td>-0.498119</td>\n",
       "      <td>1.508416</td>\n",
       "      <td>0.0</td>\n",
       "      <td>0.0</td>\n",
       "      <td>0.0</td>\n",
       "      <td>0.0</td>\n",
       "      <td>0.0</td>\n",
       "      <td>...</td>\n",
       "      <td>0.0</td>\n",
       "      <td>0.0</td>\n",
       "      <td>0.0</td>\n",
       "      <td>1.0</td>\n",
       "      <td>0.0</td>\n",
       "      <td>0.0</td>\n",
       "      <td>0.0</td>\n",
       "      <td>0.0</td>\n",
       "      <td>0.0</td>\n",
       "      <td>1.0</td>\n",
       "    </tr>\n",
       "    <tr>\n",
       "      <th>2</th>\n",
       "      <td>0.820440</td>\n",
       "      <td>-0.919036</td>\n",
       "      <td>0.216805</td>\n",
       "      <td>-0.478703</td>\n",
       "      <td>-1.214542</td>\n",
       "      <td>0.0</td>\n",
       "      <td>0.0</td>\n",
       "      <td>0.0</td>\n",
       "      <td>0.0</td>\n",
       "      <td>1.0</td>\n",
       "      <td>...</td>\n",
       "      <td>0.0</td>\n",
       "      <td>0.0</td>\n",
       "      <td>0.0</td>\n",
       "      <td>1.0</td>\n",
       "      <td>0.0</td>\n",
       "      <td>0.0</td>\n",
       "      <td>1.0</td>\n",
       "      <td>0.0</td>\n",
       "      <td>0.0</td>\n",
       "      <td>0.0</td>\n",
       "    </tr>\n",
       "    <tr>\n",
       "      <th>3</th>\n",
       "      <td>0.820440</td>\n",
       "      <td>-0.308110</td>\n",
       "      <td>0.216805</td>\n",
       "      <td>-0.245712</td>\n",
       "      <td>-0.306889</td>\n",
       "      <td>1.0</td>\n",
       "      <td>0.0</td>\n",
       "      <td>0.0</td>\n",
       "      <td>0.0</td>\n",
       "      <td>0.0</td>\n",
       "      <td>...</td>\n",
       "      <td>0.0</td>\n",
       "      <td>0.0</td>\n",
       "      <td>0.0</td>\n",
       "      <td>1.0</td>\n",
       "      <td>0.0</td>\n",
       "      <td>0.0</td>\n",
       "      <td>1.0</td>\n",
       "      <td>0.0</td>\n",
       "      <td>0.0</td>\n",
       "      <td>0.0</td>\n",
       "    </tr>\n",
       "    <tr>\n",
       "      <th>4</th>\n",
       "      <td>0.394851</td>\n",
       "      <td>-0.667113</td>\n",
       "      <td>0.216805</td>\n",
       "      <td>-0.734346</td>\n",
       "      <td>1.508416</td>\n",
       "      <td>0.0</td>\n",
       "      <td>0.0</td>\n",
       "      <td>0.0</td>\n",
       "      <td>0.0</td>\n",
       "      <td>0.0</td>\n",
       "      <td>...</td>\n",
       "      <td>0.0</td>\n",
       "      <td>0.0</td>\n",
       "      <td>0.0</td>\n",
       "      <td>1.0</td>\n",
       "      <td>0.0</td>\n",
       "      <td>0.0</td>\n",
       "      <td>1.0</td>\n",
       "      <td>0.0</td>\n",
       "      <td>0.0</td>\n",
       "      <td>0.0</td>\n",
       "    </tr>\n",
       "    <tr>\n",
       "      <th>...</th>\n",
       "      <td>...</td>\n",
       "      <td>...</td>\n",
       "      <td>...</td>\n",
       "      <td>...</td>\n",
       "      <td>...</td>\n",
       "      <td>...</td>\n",
       "      <td>...</td>\n",
       "      <td>...</td>\n",
       "      <td>...</td>\n",
       "      <td>...</td>\n",
       "      <td>...</td>\n",
       "      <td>...</td>\n",
       "      <td>...</td>\n",
       "      <td>...</td>\n",
       "      <td>...</td>\n",
       "      <td>...</td>\n",
       "      <td>...</td>\n",
       "      <td>...</td>\n",
       "      <td>...</td>\n",
       "      <td>...</td>\n",
       "      <td>...</td>\n",
       "    </tr>\n",
       "    <tr>\n",
       "      <th>10775</th>\n",
       "      <td>NaN</td>\n",
       "      <td>NaN</td>\n",
       "      <td>NaN</td>\n",
       "      <td>NaN</td>\n",
       "      <td>NaN</td>\n",
       "      <td>0.0</td>\n",
       "      <td>0.0</td>\n",
       "      <td>0.0</td>\n",
       "      <td>0.0</td>\n",
       "      <td>0.0</td>\n",
       "      <td>...</td>\n",
       "      <td>0.0</td>\n",
       "      <td>0.0</td>\n",
       "      <td>0.0</td>\n",
       "      <td>1.0</td>\n",
       "      <td>0.0</td>\n",
       "      <td>0.0</td>\n",
       "      <td>1.0</td>\n",
       "      <td>0.0</td>\n",
       "      <td>0.0</td>\n",
       "      <td>0.0</td>\n",
       "    </tr>\n",
       "    <tr>\n",
       "      <th>10777</th>\n",
       "      <td>NaN</td>\n",
       "      <td>NaN</td>\n",
       "      <td>NaN</td>\n",
       "      <td>NaN</td>\n",
       "      <td>NaN</td>\n",
       "      <td>0.0</td>\n",
       "      <td>0.0</td>\n",
       "      <td>0.0</td>\n",
       "      <td>0.0</td>\n",
       "      <td>1.0</td>\n",
       "      <td>...</td>\n",
       "      <td>0.0</td>\n",
       "      <td>0.0</td>\n",
       "      <td>0.0</td>\n",
       "      <td>1.0</td>\n",
       "      <td>0.0</td>\n",
       "      <td>0.0</td>\n",
       "      <td>1.0</td>\n",
       "      <td>0.0</td>\n",
       "      <td>0.0</td>\n",
       "      <td>0.0</td>\n",
       "    </tr>\n",
       "    <tr>\n",
       "      <th>10778</th>\n",
       "      <td>NaN</td>\n",
       "      <td>NaN</td>\n",
       "      <td>NaN</td>\n",
       "      <td>NaN</td>\n",
       "      <td>NaN</td>\n",
       "      <td>0.0</td>\n",
       "      <td>0.0</td>\n",
       "      <td>1.0</td>\n",
       "      <td>0.0</td>\n",
       "      <td>0.0</td>\n",
       "      <td>...</td>\n",
       "      <td>0.0</td>\n",
       "      <td>0.0</td>\n",
       "      <td>0.0</td>\n",
       "      <td>0.0</td>\n",
       "      <td>1.0</td>\n",
       "      <td>0.0</td>\n",
       "      <td>0.0</td>\n",
       "      <td>0.0</td>\n",
       "      <td>0.0</td>\n",
       "      <td>1.0</td>\n",
       "    </tr>\n",
       "    <tr>\n",
       "      <th>10779</th>\n",
       "      <td>NaN</td>\n",
       "      <td>NaN</td>\n",
       "      <td>NaN</td>\n",
       "      <td>NaN</td>\n",
       "      <td>NaN</td>\n",
       "      <td>1.0</td>\n",
       "      <td>0.0</td>\n",
       "      <td>0.0</td>\n",
       "      <td>0.0</td>\n",
       "      <td>0.0</td>\n",
       "      <td>...</td>\n",
       "      <td>0.0</td>\n",
       "      <td>0.0</td>\n",
       "      <td>0.0</td>\n",
       "      <td>1.0</td>\n",
       "      <td>0.0</td>\n",
       "      <td>0.0</td>\n",
       "      <td>1.0</td>\n",
       "      <td>0.0</td>\n",
       "      <td>0.0</td>\n",
       "      <td>0.0</td>\n",
       "    </tr>\n",
       "    <tr>\n",
       "      <th>10780</th>\n",
       "      <td>NaN</td>\n",
       "      <td>NaN</td>\n",
       "      <td>NaN</td>\n",
       "      <td>NaN</td>\n",
       "      <td>NaN</td>\n",
       "      <td>0.0</td>\n",
       "      <td>0.0</td>\n",
       "      <td>0.0</td>\n",
       "      <td>0.0</td>\n",
       "      <td>0.0</td>\n",
       "      <td>...</td>\n",
       "      <td>0.0</td>\n",
       "      <td>0.0</td>\n",
       "      <td>0.0</td>\n",
       "      <td>1.0</td>\n",
       "      <td>0.0</td>\n",
       "      <td>0.0</td>\n",
       "      <td>1.0</td>\n",
       "      <td>0.0</td>\n",
       "      <td>0.0</td>\n",
       "      <td>0.0</td>\n",
       "    </tr>\n",
       "  </tbody>\n",
       "</table>\n",
       "<p>9842 rows × 36 columns</p>\n",
       "</div>"
      ],
      "text/plain": [
       "              0         1         2         3         4  model_ 1 Series  \\\n",
       "0     -0.881915  1.214674 -1.629165  0.210562 -0.306889              NaN   \n",
       "1      0.394851 -0.557262  0.297065 -0.498119  1.508416              0.0   \n",
       "2      0.820440 -0.919036  0.216805 -0.478703 -1.214542              0.0   \n",
       "3      0.820440 -0.308110  0.216805 -0.245712 -0.306889              1.0   \n",
       "4      0.394851 -0.667113  0.216805 -0.734346  1.508416              0.0   \n",
       "...         ...       ...       ...       ...       ...              ...   \n",
       "10775       NaN       NaN       NaN       NaN       NaN              0.0   \n",
       "10777       NaN       NaN       NaN       NaN       NaN              0.0   \n",
       "10778       NaN       NaN       NaN       NaN       NaN              0.0   \n",
       "10779       NaN       NaN       NaN       NaN       NaN              1.0   \n",
       "10780       NaN       NaN       NaN       NaN       NaN              0.0   \n",
       "\n",
       "       model_ 2 Series  model_ 3 Series  model_ 4 Series  model_ 5 Series  \\\n",
       "0                  NaN              NaN              NaN              NaN   \n",
       "1                  0.0              0.0              0.0              0.0   \n",
       "2                  0.0              0.0              0.0              1.0   \n",
       "3                  0.0              0.0              0.0              0.0   \n",
       "4                  0.0              0.0              0.0              0.0   \n",
       "...                ...              ...              ...              ...   \n",
       "10775              0.0              0.0              0.0              0.0   \n",
       "10777              0.0              0.0              0.0              1.0   \n",
       "10778              0.0              1.0              0.0              0.0   \n",
       "10779              0.0              0.0              0.0              0.0   \n",
       "10780              0.0              0.0              0.0              0.0   \n",
       "\n",
       "       ...  model_ Z4  model_ i3  model_ i8  transmission_Automatic  \\\n",
       "0      ...        NaN        NaN        NaN                     NaN   \n",
       "1      ...        0.0        0.0        0.0                     1.0   \n",
       "2      ...        0.0        0.0        0.0                     1.0   \n",
       "3      ...        0.0        0.0        0.0                     1.0   \n",
       "4      ...        0.0        0.0        0.0                     1.0   \n",
       "...    ...        ...        ...        ...                     ...   \n",
       "10775  ...        0.0        0.0        0.0                     1.0   \n",
       "10777  ...        0.0        0.0        0.0                     1.0   \n",
       "10778  ...        0.0        0.0        0.0                     0.0   \n",
       "10779  ...        0.0        0.0        0.0                     1.0   \n",
       "10780  ...        0.0        0.0        0.0                     1.0   \n",
       "\n",
       "       transmission_Manual  transmission_Semi-Auto  fuelType_Diesel  \\\n",
       "0                      NaN                     NaN              NaN   \n",
       "1                      0.0                     0.0              0.0   \n",
       "2                      0.0                     0.0              1.0   \n",
       "3                      0.0                     0.0              1.0   \n",
       "4                      0.0                     0.0              1.0   \n",
       "...                    ...                     ...              ...   \n",
       "10775                  0.0                     0.0              1.0   \n",
       "10777                  0.0                     0.0              1.0   \n",
       "10778                  1.0                     0.0              0.0   \n",
       "10779                  0.0                     0.0              1.0   \n",
       "10780                  0.0                     0.0              1.0   \n",
       "\n",
       "       fuelType_Hybrid  fuelType_Other  fuelType_Petrol  \n",
       "0                  NaN             NaN              NaN  \n",
       "1                  0.0             0.0              1.0  \n",
       "2                  0.0             0.0              0.0  \n",
       "3                  0.0             0.0              0.0  \n",
       "4                  0.0             0.0              0.0  \n",
       "...                ...             ...              ...  \n",
       "10775              0.0             0.0              0.0  \n",
       "10777              0.0             0.0              0.0  \n",
       "10778              0.0             0.0              1.0  \n",
       "10779              0.0             0.0              0.0  \n",
       "10780              0.0             0.0              0.0  \n",
       "\n",
       "[9842 rows x 36 columns]"
      ]
     },
     "execution_count": 19,
     "metadata": {},
     "output_type": "execute_result"
    }
   ],
   "source": [
    "X_train"
   ]
  },
  {
   "cell_type": "markdown",
   "metadata": {},
   "source": [
    "### Создаем пайплайн\n",
    "по документации [отсюда](https://scikit-learn.org/stable/auto_examples/compose/plot_column_transformer_mixed_types.html)"
   ]
  },
  {
   "cell_type": "code",
   "execution_count": 4,
   "metadata": {},
   "outputs": [],
   "source": [
    "numeric_features = ['year', 'mileage', 'tax', 'mpg', 'engineSize']\n",
    "numeric_transformer = Pipeline(steps=[\n",
    "    ('scaler', StandardScaler())])\n",
    "\n",
    "categorical_features = ['model', 'transmission', 'fuelType']\n",
    "categorical_transformer = OneHotEncoder(handle_unknown='ignore')\n",
    "\n",
    "preprocessor = ColumnTransformer(\n",
    "    transformers=[\n",
    "        ('num', numeric_transformer, numeric_features),\n",
    "        ('cat', categorical_transformer, categorical_features)])"
   ]
  },
  {
   "cell_type": "markdown",
   "metadata": {},
   "source": [
    "### Строим пайплайн\n",
    "Взяли xgboost [отсюда](https://xgboost.readthedocs.io/en/latest/python/python_api.html#module-xgboost.sklearn)\n",
    "А также использовали [grid](https://scikit-learn.org/stable/modules/generated/sklearn.model_selection.GridSearchCV.html#sklearn.model_selection.GridSearchCV)\n",
    "<br><b>Ниже остальные алгоритмы</b>"
   ]
  },
  {
   "cell_type": "code",
   "execution_count": 14,
   "metadata": {},
   "outputs": [],
   "source": [
    "\n",
    "clf = Pipeline(steps=[('preprocessor', preprocessor),\n",
    "                      ('classifier', GridSearchCV(xg.XGBRegressor(objective ='reg:squarederror', seed = 10), \n",
    "                                                  param_grid={'n_estimators': np.arange(10, 100, 5),\n",
    "                                                             'reg_alpha' : np.arange(0, .5, 0.1),\n",
    "                                                             'reg_lambda' : np.arange(0, .5, 0.1)},\n",
    "                        scoring='r2', cv=5)) ])"
   ]
  },
  {
   "cell_type": "markdown",
   "metadata": {},
   "source": [
    "### Разбиваем датасет"
   ]
  },
  {
   "cell_type": "code",
   "execution_count": 15,
   "metadata": {},
   "outputs": [],
   "source": [
    "X_train, X_test, Y_train, Y_test = train_test_split(X, Y, test_size=0.3, random_state=10)"
   ]
  },
  {
   "cell_type": "code",
   "execution_count": 16,
   "metadata": {},
   "outputs": [
    {
     "data": {
      "text/plain": [
       "Pipeline(steps=[('preprocessor',\n",
       "                 ColumnTransformer(transformers=[('num',\n",
       "                                                  Pipeline(steps=[('scaler',\n",
       "                                                                   StandardScaler())]),\n",
       "                                                  ['year', 'mileage', 'tax',\n",
       "                                                   'mpg', 'engineSize']),\n",
       "                                                 ('cat',\n",
       "                                                  OneHotEncoder(handle_unknown='ignore'),\n",
       "                                                  ['model', 'transmission',\n",
       "                                                   'fuelType'])])),\n",
       "                ('classifier',\n",
       "                 GridSearchCV(cv=5,\n",
       "                              estimator=XGBRegressor(base_score=None,\n",
       "                                                     booster=None,\n",
       "                                                     colsample_bylevel=...\n",
       "                                                     num_parallel_tree=None,\n",
       "                                                     random_state=None,\n",
       "                                                     reg_alpha=None,\n",
       "                                                     reg_lambda=None,\n",
       "                                                     scale_pos_weight=None,\n",
       "                                                     seed=10, subsample=None,\n",
       "                                                     tree_method=None,\n",
       "                                                     validate_parameters=None,\n",
       "                                                     verbosity=None),\n",
       "                              param_grid={'n_estimators': array([10, 15, 20, 25, 30, 35, 40, 45, 50, 55, 60, 65, 70, 75, 80, 85, 90,\n",
       "       95]),\n",
       "                                          'reg_alpha': array([0. , 0.1, 0.2, 0.3, 0.4]),\n",
       "                                          'reg_lambda': array([0. , 0.1, 0.2, 0.3, 0.4])},\n",
       "                              scoring='r2'))])"
      ]
     },
     "execution_count": 16,
     "metadata": {},
     "output_type": "execute_result"
    }
   ],
   "source": [
    "clf.fit(X_train, Y_train)"
   ]
  },
  {
   "cell_type": "code",
   "execution_count": 17,
   "metadata": {},
   "outputs": [
    {
     "name": "stdout",
     "output_type": "stream",
     "text": [
      "model score: 0.956\n"
     ]
    }
   ],
   "source": [
    "print(\"model score: %.3f\" % clf.score(X_test, Y_test))"
   ]
  },
  {
   "cell_type": "code",
   "execution_count": 18,
   "metadata": {},
   "outputs": [
    {
     "data": {
      "text/plain": [
       "2350.9131987909564"
      ]
     },
     "execution_count": 18,
     "metadata": {},
     "output_type": "execute_result"
    }
   ],
   "source": [
    "from sklearn.metrics import mean_squared_error as MSE\n",
    "\n",
    "y_pred = clf.predict(X_test)\n",
    "np.sqrt(MSE(Y_test, y_pred))"
   ]
  },
  {
   "cell_type": "code",
   "execution_count": 20,
   "metadata": {},
   "outputs": [
    {
     "data": {
      "text/plain": [
       "XGBRegressor(base_score=0.5, booster='gbtree', colsample_bylevel=1,\n",
       "             colsample_bynode=1, colsample_bytree=1, gamma=0, gpu_id=-1,\n",
       "             importance_type='gain', interaction_constraints='',\n",
       "             learning_rate=0.300000012, max_delta_step=0, max_depth=6,\n",
       "             min_child_weight=1, missing=nan, monotone_constraints='()',\n",
       "             n_estimators=85, n_jobs=8, num_parallel_tree=1, random_state=10,\n",
       "             reg_alpha=0.0, reg_lambda=0.4, scale_pos_weight=1, seed=10,\n",
       "             subsample=1, tree_method='exact', validate_parameters=1,\n",
       "             verbosity=None)"
      ]
     },
     "execution_count": 20,
     "metadata": {},
     "output_type": "execute_result"
    }
   ],
   "source": [
    "clf.steps[1][1].best_estimator_"
   ]
  },
  {
   "cell_type": "code",
   "execution_count": 22,
   "metadata": {},
   "outputs": [
    {
     "data": {
      "text/plain": [
       "XGBRegressor(base_score=None, booster=None, colsample_bylevel=None,\n",
       "             colsample_bynode=None, colsample_bytree=None, gamma=None,\n",
       "             gpu_id=None, importance_type='gain', interaction_constraints=None,\n",
       "             learning_rate=None, max_delta_step=None, max_depth=None,\n",
       "             min_child_weight=None, missing=nan, monotone_constraints=None,\n",
       "             n_estimators=100, n_jobs=None, num_parallel_tree=None,\n",
       "             random_state=None, reg_alpha=None, reg_lambda=None,\n",
       "             scale_pos_weight=None, seed=10, subsample=None, tree_method=None,\n",
       "             validate_parameters=None, verbosity=None)"
      ]
     },
     "execution_count": 22,
     "metadata": {},
     "output_type": "execute_result"
    }
   ],
   "source": [
    "clf.steps[1][1].estimator"
   ]
  },
  {
   "cell_type": "code",
   "execution_count": 21,
   "metadata": {},
   "outputs": [
    {
     "data": {
      "text/plain": [
       "0.9421488953609505"
      ]
     },
     "execution_count": 21,
     "metadata": {},
     "output_type": "execute_result"
    }
   ],
   "source": [
    "clf.steps[1][1].best_score_"
   ]
  },
  {
   "cell_type": "markdown",
   "metadata": {},
   "source": [
    "#### по итогу grid можно построить такую регрессию через xgboost с такими характеристиками"
   ]
  },
  {
   "cell_type": "code",
   "execution_count": 23,
   "metadata": {},
   "outputs": [
    {
     "name": "stdout",
     "output_type": "stream",
     "text": [
      "model score: 0.956\n",
      "2350.9131987909564\n"
     ]
    }
   ],
   "source": [
    "clf = Pipeline(steps=[('preprocessor', preprocessor),\n",
    "                      ('classifier', xg.XGBRegressor(objective ='reg:squarederror', \n",
    "                  n_estimators = 85, reg_lambda = 0.4, seed = 10) )])\n",
    "X_train, X_test, Y_train, Y_test = train_test_split(X, Y, test_size=0.3, random_state=10)\n",
    "clf.fit(X_train, Y_train)\n",
    "print(\"model score: %.3f\" % clf.score(X_test, Y_test))\n",
    "from sklearn.metrics import mean_squared_error as MSE\n",
    "y_pred = clf.predict(X_test)\n",
    "print(np.sqrt(MSE(Y_test, y_pred)))"
   ]
  },
  {
   "cell_type": "markdown",
   "metadata": {},
   "source": [
    "#### а можно и такую"
   ]
  },
  {
   "cell_type": "code",
   "execution_count": 25,
   "metadata": {},
   "outputs": [
    {
     "name": "stdout",
     "output_type": "stream",
     "text": [
      "model score: 0.957\n",
      "2337.728408279064\n"
     ]
    }
   ],
   "source": [
    "clf = Pipeline(steps=[('preprocessor', preprocessor),\n",
    "                      ('classifier', xg.XGBRegressor(objective ='reg:squarederror', \n",
    "                  n_estimators = 90, seed = 123) )])\n",
    "X_train, X_test, Y_train, Y_test = train_test_split(X, Y, test_size=0.3, random_state=10)\n",
    "clf.fit(X_train, Y_train)\n",
    "print(\"model score: %.3f\" % clf.score(X_test, Y_test))\n",
    "from sklearn.metrics import mean_squared_error as MSE\n",
    "y_pred = clf.predict(X_test)\n",
    "print(np.sqrt(MSE(Y_test, y_pred)))"
   ]
  },
  {
   "cell_type": "markdown",
   "metadata": {},
   "source": [
    "### LinearRegression"
   ]
  },
  {
   "cell_type": "code",
   "execution_count": 12,
   "metadata": {},
   "outputs": [
    {
     "name": "stdout",
     "output_type": "stream",
     "text": [
      "model score: 0.882\n",
      "3870.3025855100846\n"
     ]
    }
   ],
   "source": [
    "clf = Pipeline(steps=[('preprocessor', preprocessor),\n",
    "                      ('classifier', LinearRegression())])\n",
    "X_train, X_test, Y_train, Y_test = train_test_split(X, Y, test_size=0.3, random_state=10)\n",
    "clf.fit(X_train, Y_train)\n",
    "print(\"model score: %.3f\" % clf.score(X_test, Y_test))\n",
    "from sklearn.metrics import mean_squared_error as MSE\n",
    "\n",
    "y_pred = clf.predict(X_test)\n",
    "print(np.sqrt(MSE(Y_test, y_pred)))"
   ]
  },
  {
   "cell_type": "markdown",
   "metadata": {},
   "source": [
    "### RidgeCV"
   ]
  },
  {
   "cell_type": "code",
   "execution_count": 13,
   "metadata": {},
   "outputs": [
    {
     "name": "stdout",
     "output_type": "stream",
     "text": [
      "model score: 0.882\n",
      "3871.710957676267\n"
     ]
    }
   ],
   "source": [
    "clf = Pipeline(steps=[('preprocessor', preprocessor),\n",
    "                      ('classifier', RidgeCV())])\n",
    "X_train, X_test, Y_train, Y_test = train_test_split(X, Y, test_size=0.3, random_state=10)\n",
    "clf.fit(X_train, Y_train)\n",
    "print(\"model score: %.3f\" % clf.score(X_test, Y_test))\n",
    "from sklearn.metrics import mean_squared_error as MSE\n",
    "\n",
    "y_pred = clf.predict(X_test)\n",
    "print(np.sqrt(MSE(Y_test, y_pred)))"
   ]
  }
 ],
 "metadata": {
  "kernelspec": {
   "display_name": "Python 3",
   "language": "python",
   "name": "python3"
  },
  "language_info": {
   "codemirror_mode": {
    "name": "ipython",
    "version": 3
   },
   "file_extension": ".py",
   "mimetype": "text/x-python",
   "name": "python",
   "nbconvert_exporter": "python",
   "pygments_lexer": "ipython3",
   "version": "3.7.3"
  }
 },
 "nbformat": 4,
 "nbformat_minor": 4
}
